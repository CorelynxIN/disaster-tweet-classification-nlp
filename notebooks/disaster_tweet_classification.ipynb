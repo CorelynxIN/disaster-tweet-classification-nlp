{
  "cells": [
    {
      "cell_type": "code",
      "execution_count": null,
      "metadata": {
        "vscode": {
          "languageId": "plaintext"
        }
      },
      "outputs": [],
      "source": [
        "# 재해 트윗 분류 NLP 프로젝트 / Disaster Tweet Classification NLP Project\n",
        "\n",
        "🚨 **자연어 처리를 활용한 재해 트윗 분류 - 캐글 경진대회 프로젝트**  \n",
        "🚨 **Natural Language Processing with Disaster Tweets - Kaggle Competition Project**\n",
        "\n",
        "---\n",
        "\n",
        "## 📋 프로젝트 개요 / Project Overview\n",
        "\n",
        "이 프로젝트는 \"Natural Language Processing with Disaster Tweets\" 캐글 경진대회를 다루며, 트윗을 재해 관련 또는 비재해 관련으로 분류하는 머신러닝 모델을 구축하는 것을 목표로 합니다. 응급 대응 조직이 소셜 미디어 노이즈에서 실제 재해 상황을 자동으로 식별할 수 있도록 돕는 것이 목적입니다.\n",
        "\n",
        "This project tackles the \"Natural Language Processing with Disaster Tweets\" Kaggle competition, which involves building a machine learning model to classify tweets as either disaster-related or non-disaster related. The goal is to help emergency response organizations automatically identify real disaster situations from social media noise.\n",
        "\n",
        "---\n",
        "\n",
        "## 🎯 목표 / Objective\n",
        "\n",
        "다음과 같이 트윗을 정확하게 분류할 수 있는 머신러닝 모델 구축:\n",
        "Build a machine learning model that can accurately classify tweets as:\n",
        "\n",
        "- **1**: 실제 재해 트윗 (실제 재해를 설명하는 트윗) / Real disaster tweets (describing actual disasters)\n",
        "- **0**: 비재해 트윗 (은유적이거나 재해와 관련 없는 트윗) / Non-disaster tweets (metaphorical or non-disaster related)\n",
        "\n",
        "---\n",
        "\n",
        "## 📊 데이터셋 정보 / Dataset Information\n",
        "\n",
        "- **훈련 세트 / Training set**: 7,613개의 레이블이 있는 트윗 / 7,613 tweets with labels\n",
        "- **테스트 세트 / Test set**: 예측을 위한 3,263개의 트윗 / 3,263 tweets for prediction\n",
        "\n",
        "### 특성 / Features:\n",
        "- **id**: 고유 식별자 / Unique identifier\n",
        "- **keyword**: 재해 관련 키워드 (비어있을 수 있음) / Disaster-related keyword (may be blank)\n",
        "- **location**: 트윗이 전송된 위치 (비어있을 수 있음) / Location where tweet was sent (may be blank)\n",
        "- **text**: 실제 트윗 텍스트 / The actual tweet text\n",
        "- **target**: 이진 레이블 (1=재해, 0=비재해) - 훈련 세트에만 존재 / Binary label (1=disaster, 0=non-disaster) - only in training set\n",
        "\n",
        "---\n",
        "\n",
        "## 🛠️ 사용 기술 / Technologies Used\n",
        "\n",
        "### 머신러닝 & NLP / Machine Learning & NLP\n",
        "- **Scikit-learn**: 전통적인 ML 알고리즘 및 TF-IDF 벡터화 / Traditional ML algorithms and TF-IDF vectorization\n",
        "- **TensorFlow/Keras**: 딥러닝 모델 (LSTM, 양방향 LSTM) / Deep learning models (LSTM, Bidirectional LSTM)\n",
        "- **NLTK**: 자연어 처리 및 텍스트 전처리 / Natural language processing and text preprocessing\n",
        "- **Pandas & NumPy**: 데이터 조작 및 분석 / Data manipulation and analysis\n",
        "\n",
        "### 시각화 / Visualization\n",
        "- **Matplotlib & Seaborn**: 데이터 시각화 및 플롯팅 / Data visualization and plotting\n",
        "- **WordCloud**: 텍스트 시각화 / Text visualization\n"
      ]
    },
    {
      "cell_type": "code",
      "execution_count": null,
      "metadata": {},
      "outputs": [],
      "source": [
        "# 필요한 라이브러리 및 모듈 임포트 / Import necessary libraries and modules\n",
        "import sys\n",
        "sys.path.append('../src')\n",
        "\n",
        "import pandas as pd\n",
        "import numpy as np\n",
        "import matplotlib.pyplot as plt\n",
        "import seaborn as sns\n",
        "from wordcloud import WordCloud\n",
        "import warnings\n",
        "warnings.filterwarnings('ignore')\n",
        "\n",
        "# 커스텀 모듈 임포트 / Import custom modules\n",
        "from preprocessing import TextPreprocessor, preprocess_disaster_tweets, create_tfidf_features\n",
        "from models import TraditionalMLModels, DeepLearningModels, save_model, load_model\n",
        "from utils import (plot_data_distribution, plot_text_statistics, create_wordcloud, \n",
        "                   plot_confusion_matrix, plot_roc_curve, compare_model_performance, \n",
        "                   set_plot_style)\n",
        "\n",
        "# 플롯 스타일 설정 / Set plot style\n",
        "set_plot_style()\n",
        "\n",
        "# 시드 설정 / Set random seed\n",
        "np.random.seed(42)\n",
        "\n",
        "print(\"📚 라이브러리 임포트 완료! / Libraries imported successfully!\")\n",
        "print(\"🚀 재해 트윗 분류 프로젝트를 시작합니다! / Starting disaster tweet classification project!\")\n"
      ]
    }
  ],
  "metadata": {
    "language_info": {
      "name": "python"
    }
  },
  "nbformat": 4,
  "nbformat_minor": 2
}
